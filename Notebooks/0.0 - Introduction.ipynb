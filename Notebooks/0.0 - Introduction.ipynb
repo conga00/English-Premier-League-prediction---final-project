{
 "cells": [
  {
   "cell_type": "markdown",
   "id": "0d39dd48",
   "metadata": {},
   "source": [
    "<div style=\"text-align: center; background-color: #0A6EBD; font-family: 'Trebuchet MS', Arial, sans-serif; color: white; padding: 20px; font-size: 40px; font-weight: bold; border-radius: 0 0 0 0; box-shadow: 0px 6px 8px rgba(0, 0, 0, 0.2);\">\n",
    "    FIT-HCMUS, VNU-HCM \n",
    "    <br>\n",
    "    LẬP TRÌNH KHOA HỌC DỮ LIỆU \n",
    "    <br>\n",
    "    Final project 📌\n",
    "</div>"
   ]
  },
  {
   "cell_type": "markdown",
   "id": "0be4e6cb",
   "metadata": {},
   "source": [
    "## Members\n",
    "\n",
    "| Student ID | Name            |\n",
    "| ---------- | ----------------|\n",
    "| 21127107   | Bùi Vũ Thế Minh |"
   ]
  },
  {
   "cell_type": "markdown",
   "id": "acd77f6e",
   "metadata": {},
   "source": [
    "## About the dataset\n",
    "\n",
    "This is ESL dataset of past 22 years.\n",
    "\n",
    "* Year wise dataset.\n",
    "* It contain EPL_standing csv file which is past year position of each team in epl.\n",
    "* each csv file have different column.\n",
    "* Each column has been describe in Dataset explanation sheet.\n",
    "* Final dataset is final csv file generated after pre-processing all year dataset.\n",
    "\n",
    "<br>\n",
    "\n",
    "## Topic\n",
    "<br>\n",
    "Football betting is a million dollars industry. This project aims to predict winning team in a match\n",
    "\n",
    "## How did author gather this dataset"
   ]
  },
  {
   "cell_type": "code",
   "execution_count": null,
   "id": "93e63227",
   "metadata": {},
   "outputs": [],
   "source": []
  }
 ],
 "metadata": {
  "kernelspec": {
   "display_name": "Python 3 (ipykernel)",
   "language": "python",
   "name": "python3"
  },
  "language_info": {
   "codemirror_mode": {
    "name": "ipython",
    "version": 3
   },
   "file_extension": ".py",
   "mimetype": "text/x-python",
   "name": "python",
   "nbconvert_exporter": "python",
   "pygments_lexer": "ipython3",
   "version": "3.9.18"
  }
 },
 "nbformat": 4,
 "nbformat_minor": 5
}
